{
  "nbformat": 4,
  "nbformat_minor": 0,
  "metadata": {
    "colab": {
      "provenance": [],
      "authorship_tag": "ABX9TyNw80A3uMve78HaY3rpGZ3H",
      "include_colab_link": true
    },
    "kernelspec": {
      "name": "python3",
      "display_name": "Python 3"
    },
    "language_info": {
      "name": "python"
    }
  },
  "cells": [
    {
      "cell_type": "markdown",
      "metadata": {
        "id": "view-in-github",
        "colab_type": "text"
      },
      "source": [
        "<a href=\"https://colab.research.google.com/github/ArminVarmaz/DE_DA/blob/main/Codes/20230517_Sentimentanalyse.ipynb\" target=\"_parent\"><img src=\"https://colab.research.google.com/assets/colab-badge.svg\" alt=\"Open In Colab\"/></a>"
      ]
    },
    {
      "cell_type": "code",
      "execution_count": 3,
      "metadata": {
        "colab": {
          "base_uri": "https://localhost:8080/"
        },
        "id": "nZOl-uYPLLnG",
        "outputId": "7f1ab1fb-3490-40a9-8e6a-a8978449e1ff"
      },
      "outputs": [
        {
          "output_type": "stream",
          "name": "stdout",
          "text": [
            "Sentiment:  positiv\n"
          ]
        }
      ],
      "source": [
        "from textblob import TextBlob\n",
        "\n",
        "def perform_sentiment_analysis(text):\n",
        "    blob = TextBlob(text)\n",
        "    polarity = blob.sentiment.polarity\n",
        "\n",
        "    if polarity > 0:\n",
        "        sentiment = \"positiv\"\n",
        "    elif polarity < 0:\n",
        "        sentiment = \"negativ\"\n",
        "    else:\n",
        "        sentiment = \"neutral\"\n",
        "\n",
        "    return sentiment\n",
        "\n",
        "text = \"\"\"STRAFPROZESS IN BONN\n",
        "Mildes Urteil für Cum-ex-Händler\n",
        "\n",
        "Ein britischer Aktienhändler kommt mit einer Bewährungsstrafe davon. Schon bald soll der Prozess gegen die Gründer der Duet Group beginnen. Sie müssen mit härteren Konsequenzen rechnen.\n",
        "\n",
        "Im Strafprozess um die Cum-ex-Geschäfte der britischen Duet Group hat das Landgericht Bonn am Dienstag einen britischen Aktienhändler wegen Beihilfe zur Steuerhinterziehung zu einer Freiheitsstrafe von zwei Jahren verurteilt. Die 9. große Strafkammer setzte die Vollstreckung zu Bewährung aus. Wegen Verzögerungen bei der Verfassung der Anklage durch die Staatsanwaltschaft Köln gelten zwei Monate als vollstreckt. Dem Urteil zufolge hatte der 47 Jahre alte Brite 2010 im Backoffice von Duet bei der Abwicklung von Aktiengeschäften geholfen, deren einziger Anreiz darin bestand, eine unrechtmäßige Anrechnung bzw. Erstattung einer Kapitalertragsteuer zu erreichen. Das Urteil ist noch nicht rechtskräftig (Az. 29 KLs 5/22).\n",
        "\n",
        "Das Verfahren gegen S. war von dem Prozess gegen drei frühere Duet-Manager abgetrennt worden. Die vier Angeklagten sollen 2010 bei Aktiengeschäften eines Fonds der damaligen Varengold Investment AG beteiligt gewesen sein. Dadurch entstand ein Steuerschaden von 92 Millionen Euro. Im Laufe des Verfahrens hatte S. gestanden, an zahlreichen Absprachen der illegalen Aktienkreisgeschäfte beteiligt gewesen zu sein.\n",
        "\n",
        "Sein Mandant sei angewiesen worden, die Handelspläne umzusetzen, habe diese Geschäfte aber nie selbst geplant, hatte sein Strafverteidiger Christian Pelz erklärt. Aber sein Mandant habe gewusst, dass die Gewinne für Duet aus Steuerrückerstattungen stammten. Aus den Gewinnen erhielt S. laut der Anklage einen Bonus von rund 80.000 Pfund. Das Strafgericht ordnete die Einziehung von rund 60.000 Euro an.\n",
        "\n",
        "Nun Gründer im Visier\n",
        "\n",
        "Nach dem nun verkündeten Urteil gegen S. will die 9. Strafkammer zeitnah mit der Hauptverhandlung gegen die Duet-Partner, darunter auch den Firmengründer Henry Gabay, beginnen. Der Investmentbanker bestritt bislang jedes Fehlverhalten. In dem vorgelagerten Prozess war Gabay von einem früheren Mitarbeiter, der als Kronzeuge der Anklage auftrat, belastet worden.\n",
        "\n",
        "Bonn festigt damit weiterhin seinen Ruf, das Gros an strafrechtlicher Aufklärung im Cum-ex-Skandal zu leisten. Derzeit müssen sich dort zwei Mitarbeiter der Warburg-Bank ebenfalls wegen Steuerhinterziehung vor Gericht verantworten (Az. 62 KLs 1/21). Die größte Aufmerksamkeit in den kommenden Monaten gilt aber ohne Zweifel dem Prozess gegen Christian Olearius, vormals persönlich haftende Gesellschafter von M.M. Warburg.\n",
        "\n",
        "\n",
        "Nach einem erfolgreichen Befangenheitsantrag seiner Verteidiger musste die Strafkammer den Vorsitzenden auswechseln. Das hinderte seine Nachfolgerin jedoch nicht daran, die Anklage gegen Olearius wegen 14 Fällen der besonders schweren Steuerhinterziehung zuzulassen.\"\"\"\n",
        "\n",
        "\n",
        "text = \"\"\"Postkoloniale Scham darf nicht zu falscher Politik führen\n",
        "\n",
        "Deutschland hat bedeutende Kunstwerke an Nigeria zurückgegeben. Dort ist ihre Zukunft ungewiss. Schlechtes Gewissen führt eben nicht immer zu guten Entscheidungen.\n",
        " \n",
        "Wenn sich aus der unrühmlichen Saga um die Benin-Bronzen etwas lernen lässt, dann vermutlich dies: Man sollte nie vergessen, dass die Welt kompliziert ist. Viele, die sich von der Rückgabe der Kunstschätze eine Art moralische Erlösung von den westlichen Schandtaten in der Kolonialzeit versprochen haben, blicken auf eine deprimierende Woche zurück.\n",
        "\n",
        "Die Aussicht darauf, dass die kostbaren Bronzen weiterhin einer Museumsöffentlichkeit zugänglich sind, nur eben jetzt dort, wo sie historisch hingehören, steht plötzlich infrage. Nachdem der nigerianische Staatspräsident in einer quasi letzten Amtshandlung die Schätze an das Oberhaupt der früheren Königsfamilie von Benin weitergereicht hat, ist deren Schicksal ungewiss. Es steht nun weitgehend im Belieben des Königs Ewuare II., ob er mit den Bronzen sein Privathaus schmückt, sie verleiht oder verkauft. Eines der Kunstwerke soll vor sieben Jahren für 13 Millionen Dollar erworben worden sein.\n",
        "\n",
        "Die Nachfahren der Sklaven protestieren\n",
        "\n",
        "Die Debatte um die Bronzen verhalf aber auch historischen Tatsachen an die Oberfläche, die vielleicht nicht jedem bekannt waren. Dazu gehört, dass der frühere Reichtum der Königsfamilie nicht zuletzt im Sklavenhandel wurzelte, von dem eben nicht nur die europäischen Mächte profitierten, sondern auch einheimische Eliten. Einige bereicherten sich sogar noch, als sich die Briten schon aus moralischen Gründen aus dem schmutzigen Geschäft zurückgezogen hatten. Es kommt einer bösen Pointe gleich, dass offenbar viele der Bronzen ohne den Sklavenhandel gar nicht hätten entstehen können: Das verarbeitete Material gehörte, jedenfalls nach Darstellung der US Restitution Study Group, zu den Einkünften, welche die Vorfahren des Königs aus dem Menschengeschäft erzielt hatten.\n",
        "\n",
        "Die New Yorker Organisation, in der sich Sklavennachfahren organisiert haben, fordert deshalb schon lange, dass westliche Museen die Bronzen nicht an Nigeria zurückgeben sollen. Sie hatte vorausgesagt, dass der König und die Regierung in Abuja die Bronzen „nicht teilen will“. Deshalb hatten sie „Zugang zu unserem kulturellen Besitz“ verlangt, also den Verbleib in den öffentlichen Ausstellungshallen Europas und Amerikas. All das dürften die deutsche Außenministerin Baerbock und ihre grüne Kollegin, Kulturstaatsministerin Roth, gewusst haben, als sie kurz vor Weihnachten nach Nigeria reisten, um die ersten zwanzig Bronzen in selbstergriffener Demut zurückzugeben. Mit der Geste sollten die Wunden der Vergangenheit geheilt werden, sagten sie. Geheilt wurden wohl eher die Wunden der selbst empfundenen Scham.\n",
        "\n",
        "Dass die Bundesregierung, angeführt von den Grünen, dafür ein kulturelles Welterbe vertraglich einer ungewissen Zukunft zugeführt hat, kann ihr nicht gefallen. Universalismus steht ja eigentlich hoch im Kurs, Professionalität sicher auch. Vielleicht reagierten Koalitionsabgeordnete auch deshalb so scharf auf Kritik an der Regierung und ihren Verhandlungskünsten. Eine Rückübertragung mit Vorgaben wäre einer „Fortschreibung des Kolonialismus mit anderen Mitteln“ gleichgekommen, hieß es in der SPD. Soll das im Umkehrschluss heißen, die Regierung hätte die Übertragung auch unterschrieben, wäre ihr aus Nigeria von vornherein ins Gesicht gesagt worden, dass man die Kunstschätze der Öffentlichkeit vorenthalten will?\n",
        "\"\"\"\n",
        "\n",
        "sentiment = perform_sentiment_analysis(text)\n",
        "print(\"Sentiment: \", sentiment)\n"
      ]
    }
  ]
}